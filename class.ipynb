{
 "cells": [
  {
   "cell_type": "code",
   "execution_count": 4,
   "metadata": {},
   "outputs": [],
   "source": [
    "class A:\n",
    "    pass   \n",
    "obj=A()"
   ]
  },
  {
   "cell_type": "code",
   "execution_count": 5,
   "metadata": {},
   "outputs": [
    {
     "name": "stdout",
     "output_type": "stream",
     "text": [
      "10\n"
     ]
    }
   ],
   "source": [
    "class B:\n",
    "    age=10\n",
    "    print(age)  \n",
    "obj=B()"
   ]
  },
  {
   "cell_type": "code",
   "execution_count": 6,
   "metadata": {},
   "outputs": [
    {
     "name": "stdout",
     "output_type": "stream",
     "text": [
      "10\n",
      "10\n"
     ]
    }
   ],
   "source": [
    "class C:\n",
    "    def __init__(self):\n",
    "        age=10\n",
    "        print(age)  \n",
    "obj1=C()\n",
    "obj2=C()"
   ]
  },
  {
   "cell_type": "code",
   "execution_count": 7,
   "metadata": {},
   "outputs": [
    {
     "name": "stdout",
     "output_type": "stream",
     "text": [
      "20\n",
      "20\n",
      "20\n"
     ]
    }
   ],
   "source": [
    "class D:\n",
    "    age=20\n",
    "    print(age)\n",
    "    \"Learn python\"\n",
    "obj=D()\n",
    "print(obj.age)\n",
    "print(D.age)"
   ]
  },
  {
   "cell_type": "code",
   "execution_count": 11,
   "metadata": {},
   "outputs": [
    {
     "name": "stdout",
     "output_type": "stream",
     "text": [
      "20\n",
      "20\n",
      "20\n",
      "Learn python\n",
      "Learn python\n"
     ]
    }
   ],
   "source": [
    "class E:\n",
    "    \"Learn python\"\n",
    "    age=20\n",
    "    print(age)\n",
    "    \n",
    "obj4=E()\n",
    "print(obj4.age)\n",
    "print(E.age)\n",
    "print(obj4.__doc__)\n",
    "print(E.__doc__)"
   ]
  },
  {
   "cell_type": "code",
   "execution_count": 16,
   "metadata": {},
   "outputs": [
    {
     "name": "stdout",
     "output_type": "stream",
     "text": [
      "Son of sudha sinha\n",
      "Rahul Srivastava\n",
      "33\n",
      "<built-in method __format__ of F object at 0x000001DCCDA1A010>\n",
      "<function F.fun at 0x000001DCCD9DCAE0>\n",
      "<class 'object'>\n",
      "{}\n",
      "None\n",
      "<method '__reduce_ex__' of 'object' objects>\n",
      "<built-in method mro of type object at 0x000001DCCB8360A0>\n"
     ]
    }
   ],
   "source": [
    "class F:\n",
    "    age=33\n",
    "    def fun(self):\n",
    "        \"Rahul Srivastava\"\n",
    "        name=\"Son of sudha sinha\"\n",
    "        print(name)\n",
    "obj5=F()\n",
    "obj5.fun()\n",
    "print(obj5.fun.__doc__)\n",
    "print(obj5.age)\n",
    "print(obj5.__format__)\n",
    "print(F.fun)\n",
    "print(F.__base__)\n",
    "print(F.__annotations__)\n",
    "print(F.__doc__)\n",
    "print(F.__reduce_ex__)\n",
    "print(F.mro)"
   ]
  },
  {
   "cell_type": "code",
   "execution_count": null,
   "metadata": {},
   "outputs": [],
   "source": []
  }
 ],
 "metadata": {
  "kernelspec": {
   "display_name": "base",
   "language": "python",
   "name": "python3"
  },
  "language_info": {
   "codemirror_mode": {
    "name": "ipython",
    "version": 3
   },
   "file_extension": ".py",
   "mimetype": "text/x-python",
   "name": "python",
   "nbconvert_exporter": "python",
   "pygments_lexer": "ipython3",
   "version": "3.11.5"
  }
 },
 "nbformat": 4,
 "nbformat_minor": 2
}
