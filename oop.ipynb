{
 "cells": [
  {
   "cell_type": "code",
   "execution_count": 1,
   "id": "6138c2f2",
   "metadata": {},
   "outputs": [],
   "source": [
    "class phone:\n",
    "    \n",
    "    def make_call(self):\n",
    "        print(\"Making Phone Call\")\n",
    "    def play_game(self):\n",
    "        print(\"Playing Game\")\n",
    "        \n",
    "        \n"
   ]
  },
  {
   "cell_type": "code",
   "execution_count": 3,
   "id": "f92c0b36",
   "metadata": {},
   "outputs": [],
   "source": [
    "p1=phone()"
   ]
  },
  {
   "cell_type": "code",
   "execution_count": 4,
   "id": "201efd93",
   "metadata": {},
   "outputs": [
    {
     "name": "stdout",
     "output_type": "stream",
     "text": [
      "Making Phone Call\n"
     ]
    }
   ],
   "source": [
    "p1.make_call()"
   ]
  },
  {
   "cell_type": "code",
   "execution_count": 13,
   "id": "f426e48a",
   "metadata": {},
   "outputs": [
    {
     "name": "stdout",
     "output_type": "stream",
     "text": [
      "Blue\n",
      "300\n"
     ]
    }
   ],
   "source": [
    "class  Phone:\n",
    "    \n",
    "    \n",
    "    def set_color(self,c):\n",
    "        \n",
    "        self.color=c\n",
    "        \n",
    "    def set_cost(self,cst):\n",
    "        \n",
    "        self.cost=cst\n",
    "        \n",
    "    def show_color(self):\n",
    "        print (self.color)\n",
    "    \n",
    "    def show_cost(self):\n",
    "        print (self.cost)\n",
    "    \n",
    "    def make_call(self):\n",
    "        print(\"Making Phone Call\")\n",
    "        \n",
    "    def play_game(self):\n",
    "        print(\"Playing Game\")\n",
    "        \n",
    "p2=Phone()\n",
    "\n",
    "p2.set_color(\"Blue\")\n",
    "\n",
    "p2.set_cost(300)\n",
    "\n",
    "p2.show_color()\n",
    "\n",
    "p2.show_cost()\n",
    "    "
   ]
  },
  {
   "cell_type": "code",
   "execution_count": 14,
   "id": "1936fc3d",
   "metadata": {},
   "outputs": [],
   "source": [
    "m2=Phone()"
   ]
  },
  {
   "cell_type": "code",
   "execution_count": 16,
   "id": "7f798fe8",
   "metadata": {},
   "outputs": [
    {
     "name": "stdout",
     "output_type": "stream",
     "text": [
      "Black\n",
      "1300\n"
     ]
    }
   ],
   "source": [
    "m2.set_color(\"Black\")\n",
    "\n",
    "m2.set_cost(1300)\n",
    "\n",
    "m2.show_color()\n",
    "\n",
    "m2.show_cost()\n",
    "    "
   ]
  },
  {
   "cell_type": "code",
   "execution_count": null,
   "id": "74f8dc35",
   "metadata": {},
   "outputs": [],
   "source": []
  }
 ],
 "metadata": {
  "kernelspec": {
   "display_name": "Python 3 (ipykernel)",
   "language": "python",
   "name": "python3"
  },
  "language_info": {
   "codemirror_mode": {
    "name": "ipython",
    "version": 3
   },
   "file_extension": ".py",
   "mimetype": "text/x-python",
   "name": "python",
   "nbconvert_exporter": "python",
   "pygments_lexer": "ipython3",
   "version": "3.9.13"
  }
 },
 "nbformat": 4,
 "nbformat_minor": 5
}
